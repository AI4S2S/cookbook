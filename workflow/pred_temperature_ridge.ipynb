{
 "cells": [
  {
   "cell_type": "markdown",
   "metadata": {},
   "source": [
    "## Predict 2 meter temperature with sea surface temperature using linear regression\n",
    "This notebook serves as an example of a basic workflow with `s2spy` & `lilio` packages. <br>\n",
    "We will predict temperature in US at seasonal time scales using ERA5 dataset with linear regression (Ridge). <br>\n",
    "\n",
    "This recipe includes the following steps:\n",
    "- Define a calendar (`lilio`)\n",
    "- Download/load input data (`era5cli`)\n",
    "- Map the calendar to the data (`lilio`)\n",
    "- Train-test split (70%/30%)\n",
    "- Preprocessing based on the training set (`s2spy`)\n",
    "- Resample data to the calendar (`lilio`)\n",
    "- Dimensionality reduction and model training, with cross-validation (`lilio` & `scikit-learn`)"
   ]
  },
  {
   "cell_type": "code",
   "execution_count": 1,
   "metadata": {},
   "outputs": [],
   "source": [
    "import lilio\n",
    "import numpy as np\n",
    "import xarray as xr\n",
    "from pathlib import Path\n",
    "from s2spy import preprocess\n",
    "from s2spy import RGDR\n",
    "from sklearn.linear_model import Ridge\n",
    "from sklearn.metrics import mean_squared_error\n",
    "from sklearn.model_selection import KFold"
   ]
  },
  {
   "cell_type": "markdown",
   "metadata": {},
   "source": [
    "#### Define a calendar with `lilio` to specify time range for targets and precursors."
   ]
  },
  {
   "cell_type": "code",
   "execution_count": 2,
   "metadata": {},
   "outputs": [],
   "source": [
    "# create custom calendar based on the time of interest\n",
    "calendar = lilio.Calendar(anchor=\"08-01\")\n",
    "# add target periods\n",
    "calendar.add_intervals(\"target\", length=\"30d\")\n",
    "# add precursor periods\n",
    "calendar.add_intervals(\"precursor\", \"1M\", gap=\"1M\")"
   ]
  },
  {
   "cell_type": "markdown",
   "metadata": {},
   "source": [
    "#### Download SST and T2M from ERA5 using `era5cli` and prepare input data\n",
    "(we skip this step for now and use the data we already have.)"
   ]
  },
  {
   "cell_type": "code",
   "execution_count": 3,
   "metadata": {},
   "outputs": [],
   "source": [
    "# before executing the fetch request, make sure that you have your ID and key\n",
    "# check this doc if not https://era5cli.readthedocs.io/en/latest/instructions.html#register-at-copernicus-climate-data-service\n",
    "# download land variables\n",
    "#!era5cli hourly --variables 2m_temperature sea_surface_temperature volumetric_soil_water_layer_1 --startyear 2000 --endyear 2010 --area 50 175 35 240"
   ]
  },
  {
   "cell_type": "code",
   "execution_count": 4,
   "metadata": {},
   "outputs": [],
   "source": [
    "# load data\n",
    "data_folder = '/Users/semvijverberg/surfdrive/Scripts/escience/s2spy/tests/test_rgdr/test_data'\n",
    "precursor_field = xr.open_dataset(Path(data_folder, 'sst_daily_1979-2018_5deg_Pacific_175_240E_25_50N.nc'))\n",
    "target_field = xr.open_dataset(Path(data_folder,'tf5_nc5_dendo_80d77.nc'))"
   ]
  },
  {
   "cell_type": "markdown",
   "metadata": {},
   "source": [
    "#### Map the calendar to the data\n",
    "After mapping the calendar to the field, we can visualize our calendar by calling the `visualize` method."
   ]
  },
  {
   "cell_type": "code",
   "execution_count": 5,
   "metadata": {},
   "outputs": [
    {
     "data": {
      "image/png": "[encoded data removed]",
      "text/plain": [
       "<Figure size 504x288 with 1 Axes>"
      ]
     },
     "metadata": {
      "needs_background": "light"
     },
     "output_type": "display_data"
    }
   ],
   "source": [
    "# map calendar to data\n",
    "calendar.map_to_data(precursor_field)\n",
    "calendar.visualize(show_length=True)"
   ]
  },
  {
   "cell_type": "markdown",
   "metadata": {},
   "source": [
    "Also, we can get a list of all intervals by running the following line. There, you will find the intervals `-1` and `1`, which corresponds to the creation of a precursor interval (negative integer(s)) and a target interval (positive integer(s)), respectively. <br>\n",
    "\n",
    "For more information about the definition of intervals, and how `lilio` works, please check the [README](https://github.com/AI4S2S/lilio) of `lilio`."
   ]
  },
  {
   "cell_type": "code",
   "execution_count": 6,
   "metadata": {},
   "outputs": [
    {
     "data": {
      "text/html": [
       "<div>\n",
       "<style scoped>\n",
       "    .dataframe tbody tr th:only-of-type {\n",
       "        vertical-align: middle;\n",
       "    }\n",
       "\n",
       "    .dataframe tbody tr th {\n",
       "        vertical-align: top;\n",
       "    }\n",
       "\n",
       "    .dataframe thead th {\n",
       "        text-align: right;\n",
       "    }\n",
       "</style>\n",
       "<table border=\"1\" class=\"dataframe\">\n",
       "  <thead>\n",
       "    <tr style=\"text-align: right;\">\n",
       "      <th>i_interval</th>\n",
       "      <th>-1</th>\n",
       "      <th>1</th>\n",
       "    </tr>\n",
       "    <tr>\n",
       "      <th>anchor_year</th>\n",
       "      <th></th>\n",
       "      <th></th>\n",
       "    </tr>\n",
       "  </thead>\n",
       "  <tbody>\n",
       "    <tr>\n",
       "      <th>2018</th>\n",
       "      <td>[2018-06-01, 2018-07-01)</td>\n",
       "      <td>[2018-08-01, 2018-08-31)</td>\n",
       "    </tr>\n",
       "    <tr>\n",
       "      <th>2017</th>\n",
       "      <td>[2017-06-01, 2017-07-01)</td>\n",
       "      <td>[2017-08-01, 2017-08-31)</td>\n",
       "    </tr>\n",
       "    <tr>\n",
       "      <th>2016</th>\n",
       "      <td>[2016-06-01, 2016-07-01)</td>\n",
       "      <td>[2016-08-01, 2016-08-31)</td>\n",
       "    </tr>\n",
       "    <tr>\n",
       "      <th>2015</th>\n",
       "      <td>[2015-06-01, 2015-07-01)</td>\n",
       "      <td>[2015-08-01, 2015-08-31)</td>\n",
       "    </tr>\n",
       "    <tr>\n",
       "      <th>2014</th>\n",
       "      <td>[2014-06-01, 2014-07-01)</td>\n",
       "      <td>[2014-08-01, 2014-08-31)</td>\n",
       "    </tr>\n",
       "  </tbody>\n",
       "</table>\n",
       "</div>"
      ],
      "text/plain": [
       "i_interval                         -1                         1\n",
       "anchor_year                                                    \n",
       "2018         [2018-06-01, 2018-07-01)  [2018-08-01, 2018-08-31)\n",
       "2017         [2017-06-01, 2017-07-01)  [2017-08-01, 2017-08-31)\n",
       "2016         [2016-06-01, 2016-07-01)  [2016-08-01, 2016-08-31)\n",
       "2015         [2015-06-01, 2015-07-01)  [2015-08-01, 2015-08-31)\n",
       "2014         [2014-06-01, 2014-07-01)  [2014-08-01, 2014-08-31)"
      ]
     },
     "execution_count": 6,
     "metadata": {},
     "output_type": "execute_result"
    }
   ],
   "source": [
    "# show first 5 anchor years in the calendar\n",
    "calendar.show()[:5]"
   ]
  },
  {
   "cell_type": "markdown",
   "metadata": {},
   "source": [
    "#### Train-test split based on the anchor years (70%/30% split)\n",
    "This can be refered to as the \"outer cross-validation layer\"."
   ]
  },
  {
   "cell_type": "code",
   "execution_count": 7,
   "metadata": {},
   "outputs": [],
   "source": [
    "# get 70% of instance as training\n",
    "years = sorted(calendar.get_intervals().index)\n",
    "train_samples = round(len(years) * 0.7)\n",
    "start_year = years[0]"
   ]
  },
  {
   "cell_type": "markdown",
   "metadata": {},
   "source": [
    "#### Fit preprocessor with training samples and preprocess data\n",
    "In this step, we remove trend and take anomalies for the precursor field. Note that here we use raw daily data for detrending and taking anomalies. <br>\n",
    "\n",
    "In general, there are many \"flavors\" of preprocessing, like when to perform this operation, and in which order do we want to preprocess the data. To improve the transparency and reproducibility of our work, we think it is necessary to standardize these steps. To stick to the best practices, we suggest to preprocess your data in the following way."
   ]
  },
  {
   "cell_type": "code",
   "execution_count": 8,
   "metadata": {},
   "outputs": [],
   "source": [
    "# create preprocessor\n",
    "preprocessor = preprocess.Preprocessor(\n",
    "    rolling_window_size=25,\n",
    "    detrend=\"linear\",\n",
    "    subtract_climatology=True,\n",
    ")\n",
    "\n",
    "# fit preprocessor with training data\n",
    "preprocessor.fit(precursor_field.sel(time=slice(str(start_year),\n",
    "                                                str(start_year + train_samples - 1))))"
   ]
  },
  {
   "cell_type": "code",
   "execution_count": 9,
   "metadata": {},
   "outputs": [],
   "source": [
    "# preprocess the whole precursor field\n",
    "precursor_field_prep = preprocessor.transform(precursor_field)"
   ]
  },
  {
   "cell_type": "markdown",
   "metadata": {},
   "source": [
    "#### Resample data to the calendar"
   ]
  },
  {
   "cell_type": "code",
   "execution_count": 10,
   "metadata": {},
   "outputs": [],
   "source": [
    "precursor_field_resample = lilio.resample(calendar, precursor_field_prep)\n",
    "target_field_resample = lilio.resample(calendar, target_field)"
   ]
  },
  {
   "cell_type": "code",
   "execution_count": 11,
   "metadata": {},
   "outputs": [],
   "source": [
    "# select variables and intervals\n",
    "precursor_field_sel = precursor_field_resample['sst']\n",
    "target_series_sel = target_field_resample['ts'].sel(cluster=3)"
   ]
  },
  {
   "cell_type": "markdown",
   "metadata": {},
   "source": [
    "#### Train-test split -> dimensionality reduction & model fitting\n",
    "Train-test split based on the previous split, which can be refered to as \"inner cross-validation layer\" (outer cv loop -> inner cv loop). <br>\n",
    "For each split, we will perform dimensionality reduction and fit the model.\n",
    "\n",
    "For simplicity, in this example we only perform dimensionality reduction with RGDR with only one target interval and one lag. But in practice you can have multiple target intervals and multiple lags. <br>\n",
    "For more information, here is a nice example about multiple target intervals in the [tutorial notebook](https://github.com/AI4S2S/s2spy/blob/main/docs/notebooks/tutorial_RGDR.ipynb) of RGDR."
   ]
  },
  {
   "cell_type": "code",
   "execution_count": 15,
   "metadata": {},
   "outputs": [
    {
     "ename": "ValueError",
     "evalue": "One or more of the specified variables cannot be found in this dataset",
     "output_type": "error",
     "traceback": [
      "\u001b[0;31m---------------------------------------------------------------------------\u001b[0m",
      "\u001b[0;31mValueError\u001b[0m                                Traceback (most recent call last)",
      "\u001b[1;32m/Users/semvijverberg/surfdrive/Scripts/escience/cookbook/workflow/pred_temperature_ridge.ipynb Cell 21\u001b[0m in \u001b[0;36m<cell line: 25>\u001b[0;34m()\u001b[0m\n\u001b[1;32m     <a href='vscode-notebook-cell:/Users/semvijverberg/surfdrive/Scripts/escience/cookbook/workflow/pred_temperature_ridge.ipynb#X26sZmlsZQ%3D%3D?line=26'>27</a>\u001b[0m train_test_splits\u001b[39m.\u001b[39mappend({\n\u001b[1;32m     <a href='vscode-notebook-cell:/Users/semvijverberg/surfdrive/Scripts/escience/cookbook/workflow/pred_temperature_ridge.ipynb#X26sZmlsZQ%3D%3D?line=27'>28</a>\u001b[0m     \u001b[39m\"\u001b[39m\u001b[39mtrain\u001b[39m\u001b[39m\"\u001b[39m: x_train\u001b[39m.\u001b[39manchor_year\u001b[39m.\u001b[39mvalues,\n\u001b[1;32m     <a href='vscode-notebook-cell:/Users/semvijverberg/surfdrive/Scripts/escience/cookbook/workflow/pred_temperature_ridge.ipynb#X26sZmlsZQ%3D%3D?line=28'>29</a>\u001b[0m     \u001b[39m\"\u001b[39m\u001b[39mtest\u001b[39m\u001b[39m\"\u001b[39m: x_test\u001b[39m.\u001b[39manchor_year\u001b[39m.\u001b[39mvalues,\n\u001b[1;32m     <a href='vscode-notebook-cell:/Users/semvijverberg/surfdrive/Scripts/escience/cookbook/workflow/pred_temperature_ridge.ipynb#X26sZmlsZQ%3D%3D?line=29'>30</a>\u001b[0m })\n\u001b[1;32m     <a href='vscode-notebook-cell:/Users/semvijverberg/surfdrive/Scripts/escience/cookbook/workflow/pred_temperature_ridge.ipynb#X26sZmlsZQ%3D%3D?line=30'>31</a>\u001b[0m \u001b[39m# fit dimensionality reduction operator RGDR\u001b[39;00m\n\u001b[0;32m---> <a href='vscode-notebook-cell:/Users/semvijverberg/surfdrive/Scripts/escience/cookbook/workflow/pred_temperature_ridge.ipynb#X26sZmlsZQ%3D%3D?line=31'>32</a>\u001b[0m rgdr\u001b[39m.\u001b[39;49mfit(x_train, y_train)\n\u001b[1;32m     <a href='vscode-notebook-cell:/Users/semvijverberg/surfdrive/Scripts/escience/cookbook/workflow/pred_temperature_ridge.ipynb#X26sZmlsZQ%3D%3D?line=32'>33</a>\u001b[0m \u001b[39m# transform to train and test data\u001b[39;00m\n\u001b[1;32m     <a href='vscode-notebook-cell:/Users/semvijverberg/surfdrive/Scripts/escience/cookbook/workflow/pred_temperature_ridge.ipynb#X26sZmlsZQ%3D%3D?line=33'>34</a>\u001b[0m clusters_train \u001b[39m=\u001b[39m rgdr\u001b[39m.\u001b[39mtransform(x_train)\n",
      "File \u001b[0;32m~/miniconda3/envs/s2s/lib/python3.10/site-packages/s2spy/rgdr/rgdr.py:577\u001b[0m, in \u001b[0;36mRGDR.fit\u001b[0;34m(self, precursor, target)\u001b[0m\n\u001b[1;32m    551\u001b[0m \u001b[39mdef\u001b[39;00m \u001b[39mfit\u001b[39m(\u001b[39mself\u001b[39m, precursor: xr\u001b[39m.\u001b[39mDataArray, target: xr\u001b[39m.\u001b[39mDataArray):\n\u001b[1;32m    552\u001b[0m     \u001b[39m\"\"\"Fit RGDR clusters to precursor data.\u001b[39;00m\n\u001b[1;32m    553\u001b[0m \n\u001b[1;32m    554\u001b[0m \u001b[39m    Performs DBSCAN clustering on a prepared DataArray, and then groups the data by\u001b[39;00m\n\u001b[0;32m   (...)\u001b[0m\n\u001b[1;32m    575\u001b[0m \u001b[39m            reduced to clusters.\u001b[39;00m\n\u001b[1;32m    576\u001b[0m \u001b[39m    \"\"\"\u001b[39;00m\n\u001b[0;32m--> 577\u001b[0m     corr, p_val \u001b[39m=\u001b[39m \u001b[39mself\u001b[39;49m\u001b[39m.\u001b[39;49mget_correlation(precursor, target)\n\u001b[1;32m    579\u001b[0m     masked_data \u001b[39m=\u001b[39m masked_spherical_dbscan(\n\u001b[1;32m    580\u001b[0m         precursor, corr, p_val, \u001b[39mself\u001b[39m\u001b[39m.\u001b[39m_dbscan_params\n\u001b[1;32m    581\u001b[0m     )\n\u001b[1;32m    582\u001b[0m     \u001b[39mself\u001b[39m\u001b[39m.\u001b[39m_corr_map \u001b[39m=\u001b[39m corr\n",
      "File \u001b[0;32m~/miniconda3/envs/s2s/lib/python3.10/site-packages/s2spy/rgdr/rgdr.py:439\u001b[0m, in \u001b[0;36mRGDR.get_correlation\u001b[0;34m(self, precursor, target)\u001b[0m\n\u001b[1;32m    436\u001b[0m \u001b[39mif\u001b[39;00m \u001b[39mnot\u001b[39;00m \u001b[39misinstance\u001b[39m(precursor, xr\u001b[39m.\u001b[39mDataArray):\n\u001b[1;32m    437\u001b[0m     \u001b[39mraise\u001b[39;00m \u001b[39mValueError\u001b[39;00m(\u001b[39m\"\u001b[39m\u001b[39mPlease provide an xr.DataArray, not a dataset\u001b[39m\u001b[39m\"\u001b[39m)\n\u001b[0;32m--> 439\u001b[0m p, t \u001b[39m=\u001b[39m stack_input_data(\n\u001b[1;32m    440\u001b[0m     precursor, target, \u001b[39mself\u001b[39;49m\u001b[39m.\u001b[39;49m_precursor_intervals, \u001b[39mself\u001b[39;49m\u001b[39m.\u001b[39;49m_target_intervals\n\u001b[1;32m    441\u001b[0m )\n\u001b[1;32m    443\u001b[0m \u001b[39mreturn\u001b[39;00m correlation(p, t, corr_dim\u001b[39m=\u001b[39m\u001b[39m\"\u001b[39m\u001b[39manch_int\u001b[39m\u001b[39m\"\u001b[39m)\n",
      "File \u001b[0;32m~/miniconda3/envs/s2s/lib/python3.10/site-packages/s2spy/rgdr/rgdr.py:311\u001b[0m, in \u001b[0;36mstack_input_data\u001b[0;34m(precursor, target, precursor_intervals, target_intervals)\u001b[0m\n\u001b[1;32m    304\u001b[0m target \u001b[39m=\u001b[39m target\u001b[39m.\u001b[39msel(i_interval\u001b[39m=\u001b[39mtarget_intervals)\u001b[39m.\u001b[39mstack(\n\u001b[1;32m    305\u001b[0m     anch_int\u001b[39m=\u001b[39m[\u001b[39m\"\u001b[39m\u001b[39manchor_year\u001b[39m\u001b[39m\"\u001b[39m, \u001b[39m\"\u001b[39m\u001b[39mi_interval\u001b[39m\u001b[39m\"\u001b[39m]\n\u001b[1;32m    306\u001b[0m )\n\u001b[1;32m    307\u001b[0m precursor \u001b[39m=\u001b[39m precursor\u001b[39m.\u001b[39msel(i_interval\u001b[39m=\u001b[39mprecursor_intervals)\u001b[39m.\u001b[39mstack(\n\u001b[1;32m    308\u001b[0m     anch_int\u001b[39m=\u001b[39m[\u001b[39m\"\u001b[39m\u001b[39manchor_year\u001b[39m\u001b[39m\"\u001b[39m, \u001b[39m\"\u001b[39m\u001b[39mi_interval\u001b[39m\u001b[39m\"\u001b[39m]\n\u001b[1;32m    309\u001b[0m )\n\u001b[0;32m--> 311\u001b[0m precursor \u001b[39m=\u001b[39m precursor\u001b[39m.\u001b[39;49mdrop_vars({\u001b[39m\"\u001b[39;49m\u001b[39manchor_year\u001b[39;49m\u001b[39m\"\u001b[39;49m, \u001b[39m\"\u001b[39;49m\u001b[39manch_int\u001b[39;49m\u001b[39m\"\u001b[39;49m, \u001b[39m\"\u001b[39;49m\u001b[39mi_interval\u001b[39;49m\u001b[39m\"\u001b[39;49m})\n\u001b[1;32m    312\u001b[0m target \u001b[39m=\u001b[39m target\u001b[39m.\u001b[39mdrop_vars({\u001b[39m\"\u001b[39m\u001b[39manchor_year\u001b[39m\u001b[39m\"\u001b[39m, \u001b[39m\"\u001b[39m\u001b[39manch_int\u001b[39m\u001b[39m\"\u001b[39m, \u001b[39m\"\u001b[39m\u001b[39mi_interval\u001b[39m\u001b[39m\"\u001b[39m})\n\u001b[1;32m    314\u001b[0m precursor[\u001b[39m\"\u001b[39m\u001b[39manch_int\u001b[39m\u001b[39m\"\u001b[39m] \u001b[39m=\u001b[39m \u001b[39mrange\u001b[39m(precursor[\u001b[39m\"\u001b[39m\u001b[39manch_int\u001b[39m\u001b[39m\"\u001b[39m]\u001b[39m.\u001b[39msize)\n",
      "File \u001b[0;32m~/miniconda3/envs/s2s/lib/python3.10/site-packages/xarray/core/dataarray.py:2345\u001b[0m, in \u001b[0;36mDataArray.drop_vars\u001b[0;34m(self, names, errors)\u001b[0m\n\u001b[1;32m   2326\u001b[0m \u001b[39mdef\u001b[39;00m \u001b[39mdrop_vars\u001b[39m(\n\u001b[1;32m   2327\u001b[0m     \u001b[39mself\u001b[39m, names: Hashable \u001b[39m|\u001b[39m Iterable[Hashable], \u001b[39m*\u001b[39m, errors: \u001b[39mstr\u001b[39m \u001b[39m=\u001b[39m \u001b[39m\"\u001b[39m\u001b[39mraise\u001b[39m\u001b[39m\"\u001b[39m\n\u001b[1;32m   2328\u001b[0m ) \u001b[39m-\u001b[39m\u001b[39m>\u001b[39m DataArray:\n\u001b[1;32m   2329\u001b[0m     \u001b[39m\"\"\"Returns an array with dropped variables.\u001b[39;00m\n\u001b[1;32m   2330\u001b[0m \n\u001b[1;32m   2331\u001b[0m \u001b[39m    Parameters\u001b[39;00m\n\u001b[0;32m   (...)\u001b[0m\n\u001b[1;32m   2343\u001b[0m \u001b[39m        New Dataset copied from `self` with variables removed.\u001b[39;00m\n\u001b[1;32m   2344\u001b[0m \u001b[39m    \"\"\"\u001b[39;00m\n\u001b[0;32m-> 2345\u001b[0m     ds \u001b[39m=\u001b[39m \u001b[39mself\u001b[39;49m\u001b[39m.\u001b[39;49m_to_temp_dataset()\u001b[39m.\u001b[39;49mdrop_vars(names, errors\u001b[39m=\u001b[39;49merrors)\n\u001b[1;32m   2346\u001b[0m     \u001b[39mreturn\u001b[39;00m \u001b[39mself\u001b[39m\u001b[39m.\u001b[39m_from_temp_dataset(ds)\n",
      "File \u001b[0;32m~/miniconda3/envs/s2s/lib/python3.10/site-packages/xarray/core/dataset.py:4379\u001b[0m, in \u001b[0;36mDataset.drop_vars\u001b[0;34m(self, names, errors)\u001b[0m\n\u001b[1;32m   4377\u001b[0m     names \u001b[39m=\u001b[39m \u001b[39mset\u001b[39m(names)\n\u001b[1;32m   4378\u001b[0m \u001b[39mif\u001b[39;00m errors \u001b[39m==\u001b[39m \u001b[39m\"\u001b[39m\u001b[39mraise\u001b[39m\u001b[39m\"\u001b[39m:\n\u001b[0;32m-> 4379\u001b[0m     \u001b[39mself\u001b[39;49m\u001b[39m.\u001b[39;49m_assert_all_in_dataset(names)\n\u001b[1;32m   4381\u001b[0m variables \u001b[39m=\u001b[39m {k: v \u001b[39mfor\u001b[39;00m k, v \u001b[39min\u001b[39;00m \u001b[39mself\u001b[39m\u001b[39m.\u001b[39m_variables\u001b[39m.\u001b[39mitems() \u001b[39mif\u001b[39;00m k \u001b[39mnot\u001b[39;00m \u001b[39min\u001b[39;00m names}\n\u001b[1;32m   4382\u001b[0m coord_names \u001b[39m=\u001b[39m {k \u001b[39mfor\u001b[39;00m k \u001b[39min\u001b[39;00m \u001b[39mself\u001b[39m\u001b[39m.\u001b[39m_coord_names \u001b[39mif\u001b[39;00m k \u001b[39min\u001b[39;00m variables}\n",
      "File \u001b[0;32m~/miniconda3/envs/s2s/lib/python3.10/site-packages/xarray/core/dataset.py:4349\u001b[0m, in \u001b[0;36mDataset._assert_all_in_dataset\u001b[0;34m(self, names, virtual_okay)\u001b[0m\n\u001b[1;32m   4347\u001b[0m     bad_names \u001b[39m-\u001b[39m\u001b[39m=\u001b[39m \u001b[39mself\u001b[39m\u001b[39m.\u001b[39mvirtual_variables\n\u001b[1;32m   4348\u001b[0m \u001b[39mif\u001b[39;00m bad_names:\n\u001b[0;32m-> 4349\u001b[0m     \u001b[39mraise\u001b[39;00m \u001b[39mValueError\u001b[39;00m(\n\u001b[1;32m   4350\u001b[0m         \u001b[39m\"\u001b[39m\u001b[39mOne or more of the specified variables \u001b[39m\u001b[39m\"\u001b[39m\n\u001b[1;32m   4351\u001b[0m         \u001b[39m\"\u001b[39m\u001b[39mcannot be found in this dataset\u001b[39m\u001b[39m\"\u001b[39m\n\u001b[1;32m   4352\u001b[0m     )\n",
      "\u001b[0;31mValueError\u001b[0m: One or more of the specified variables cannot be found in this dataset"
     ]
    }
   ],
   "source": [
    "# cross-validation with Kfold\n",
    "k_fold_splits = 5\n",
    "kfold = KFold(n_splits=k_fold_splits)\n",
    "cv = lilio.traintest.TrainTestSplit(kfold)\n",
    "\n",
    "# create lists for saving models and predictions\n",
    "models = []\n",
    "predictions = []\n",
    "rmse_train = []\n",
    "rmse_test = []\n",
    "train_test_splits = []\n",
    "\n",
    "# prepare operator for dimensionality reduction\n",
    "target_intervals = 1\n",
    "lag = 1\n",
    "rgdr = RGDR(\n",
    "    target_intervals=target_intervals,\n",
    "    lag=lag,\n",
    "    eps_km=600,\n",
    "    alpha=0.05,\n",
    "    min_area_km2=0\n",
    ")\n",
    "\n",
    "# cross validation based dimensionality reduction and model training\n",
    "for x_train, x_test, y_train, y_test in cv.split(precursor_field_sel, y=target_series_sel):\n",
    "    # log train/test splits with anchor years\n",
    "    train_test_splits.append({\n",
    "        \"train\": x_train.anchor_year.values,\n",
    "        \"test\": x_test.anchor_year.values,\n",
    "    })\n",
    "    # fit dimensionality reduction operator RGDR\n",
    "    rgdr.fit(x_train, y_train)\n",
    "    # transform to train and test data\n",
    "    clusters_train = rgdr.transform(x_train)\n",
    "    clusters_test = rgdr.transform(x_test)\n",
    "    # train model\n",
    "    ridge = Ridge(alpha=1.0)\n",
    "    model = ridge.fit(clusters_train.isel(i_interval=0), y_train.isel(i_interval=1))\n",
    "    # save model\n",
    "    models.append(model)\n",
    "    # predict and save results\n",
    "    prediction = model.predict(clusters_test.isel(i_interval=0))\n",
    "    predictions.append(prediction)\n",
    "    # calculate and save rmse\n",
    "    rmse_train.append(mean_squared_error(y_train.isel(i_interval=1),\n",
    "                                         model.predict(clusters_train.isel(i_interval=0))))\n",
    "    rmse_test.append(mean_squared_error(y_test.isel(i_interval=1),\n",
    "                                        prediction))"
   ]
  },
  {
   "cell_type": "code",
   "execution_count": null,
   "metadata": {},
   "outputs": [],
   "source": []
  },
  {
   "cell_type": "markdown",
   "metadata": {},
   "source": [
    "#### Plot the RMSE for both training and testing for each experiment (split)"
   ]
  },
  {
   "cell_type": "code",
   "execution_count": null,
   "metadata": {},
   "outputs": [],
   "source": [
    "import matplotlib.pyplot as plt\n",
    "fig = plt.figure()\n",
    "plt.plot(range(k_fold_splits), rmse_train, \"b--\", label = \"train loss\")\n",
    "plt.plot(range(k_fold_splits), rmse_test, \"r\", label = \"test loss\")\n",
    "ax = fig.gca()\n",
    "ax.set_xticks(range(k_fold_splits))\n",
    "plt.xlabel(\"Experiment\")\n",
    "plt.ylabel(\"RMSE\")\n",
    "plt.show()"
   ]
  }
 ],
 "metadata": {
  "kernelspec": {
   "display_name": "Python 3 (ipykernel)",
   "language": "python",
   "name": "python3"
  },
  "language_info": {
   "codemirror_mode": {
    "name": "ipython",
    "version": 3
   },
   "file_extension": ".py",
   "mimetype": "text/x-python",
   "name": "python",
   "nbconvert_exporter": "python",
   "pygments_lexer": "ipython3",
   "version": "3.10.5"
  }
 },
 "nbformat": 4,
 "nbformat_minor": 4
}
