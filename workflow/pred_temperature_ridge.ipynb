{
 "cells": [
  {
   "cell_type": "markdown",
   "metadata": {},
   "source": [
    "## Predict 2 meter temperature with sea surface temperature using linear regression\n",
    "This notebook serves as an example of a basic workflow with `s2spy` & `lilio` packages. <br>\n",
    "We will predict temperature in US at seasonal time scales using ERA5 dataset with linear regression (Ridge). <br>\n",
    "\n",
    "This recipe includes the following steps:\n",
    "- Define a calendar (`lilio`)\n",
    "- Download/load input data (`era5cli`)\n",
    "- Map the calendar to the data (`lilio`)\n",
    "- Train-test split (70%/30%)\n",
    "- Preprocessing based on the training set (`s2spy`)\n",
    "- Resample data to the calendar (`lilio`)\n",
    "- Dimensionality reduction and model training, with cross-validation (`lilio` & `scikit-learn`)"
   ]
  },
  {
   "cell_type": "code",
   "execution_count": 1,
   "metadata": {},
   "outputs": [],
   "source": [
    "import lilio\n",
    "import numpy as np\n",
    "import xarray as xr\n",
    "from pathlib import Path\n",
    "from s2spy import preprocess\n",
    "from s2spy import RGDR\n",
    "from sklearn.linear_model import Ridge\n",
    "from sklearn.metrics import mean_squared_error\n",
    "from sklearn.model_selection import KFold"
   ]
  },
  {
   "cell_type": "markdown",
   "metadata": {},
   "source": [
    "#### Define a calendar with `lilio` to specify time range for targets and precursors."
   ]
  },
  {
   "cell_type": "code",
   "execution_count": 2,
   "metadata": {},
   "outputs": [],
   "source": [
    "# create custom calendar based on the time of interest\n",
    "calendar = lilio.Calendar(anchor=\"08-01\")\n",
    "# add target periods\n",
    "calendar.add_intervals(\"target\", length=\"30d\")\n",
    "# add precursor periods\n",
    "calendar.add_intervals(\"precursor\", \"1M\", gap=\"1M\")"
   ]
  },
  {
   "cell_type": "markdown",
   "metadata": {},
   "source": [
    "#### Download SST and T2M from ERA5 using `era5cli` and prepare input data\n",
    "(we skip this step for now and use the data we already have.)"
   ]
  },
  {
   "cell_type": "code",
   "execution_count": 3,
   "metadata": {},
   "outputs": [],
   "source": [
    "# before executing the fetch request, make sure that you have your ID and key\n",
    "# check this doc if not https://era5cli.readthedocs.io/en/latest/instructions.html#register-at-copernicus-climate-data-service\n",
    "# download land variables\n",
    "#!era5cli hourly --variables 2m_temperature sea_surface_temperature volumetric_soil_water_layer_1 --startyear 2000 --endyear 2010 --area 50 175 35 240"
   ]
  },
  {
   "cell_type": "code",
   "execution_count": 4,
   "metadata": {},
   "outputs": [],
   "source": [
    "# load data\n",
    "data_folder = '/path_to_data/'\n",
    "precursor_field = xr.open_dataset(Path(data_folder, 'sst_daily_1979-2018_5deg_Pacific_175_240E_25_50N.nc'))\n",
    "target_field = xr.open_dataset(Path(data_folder,'tf5_nc5_dendo_80d77.nc'))"
   ]
  },
  {
   "cell_type": "markdown",
   "metadata": {},
   "source": [
    "#### Map the calendar to the data\n",
    "After mapping the calendar to the field, we can visualize our calendar by calling the `visualize` method."
   ]
  },
  {
   "cell_type": "code",
   "execution_count": 5,
   "metadata": {},
   "outputs": [
    {
     "data": {
      "image/png": "[encoded data removed]",
      "text/plain": [
       "<Figure size 700x400 with 1 Axes>"
      ]
     },
     "metadata": {},
     "output_type": "display_data"
    }
   ],
   "source": [
    "# map calendar to data\n",
    "calendar.map_to_data(precursor_field)\n",
    "calendar.visualize(show_length=True)"
   ]
  },
  {
   "cell_type": "markdown",
   "metadata": {},
   "source": [
    "Also, we can get a list of all intervals by running the following line. There, you will find the intervals `-1` and `1`, which corresponds to the creation of a precursor interval (negative integer(s)) and a target interval (positive integer(s)), respectively. <br>\n",
    "\n",
    "For more information about the definition of intervals, and how `lilio` works, please check the [README](https://github.com/AI4S2S/lilio) of `lilio`."
   ]
  },
  {
   "cell_type": "code",
   "execution_count": 6,
   "metadata": {},
   "outputs": [
    {
     "data": {
      "text/html": [
       "<div>\n",
       "<style scoped>\n",
       "    .dataframe tbody tr th:only-of-type {\n",
       "        vertical-align: middle;\n",
       "    }\n",
       "\n",
       "    .dataframe tbody tr th {\n",
       "        vertical-align: top;\n",
       "    }\n",
       "\n",
       "    .dataframe thead th {\n",
       "        text-align: right;\n",
       "    }\n",
       "</style>\n",
       "<table border=\"1\" class=\"dataframe\">\n",
       "  <thead>\n",
       "    <tr style=\"text-align: right;\">\n",
       "      <th>i_interval</th>\n",
       "      <th>-1</th>\n",
       "      <th>1</th>\n",
       "    </tr>\n",
       "    <tr>\n",
       "      <th>anchor_year</th>\n",
       "      <th></th>\n",
       "      <th></th>\n",
       "    </tr>\n",
       "  </thead>\n",
       "  <tbody>\n",
       "    <tr>\n",
       "      <th>2018</th>\n",
       "      <td>[2018-06-01, 2018-07-01)</td>\n",
       "      <td>[2018-08-01, 2018-08-31)</td>\n",
       "    </tr>\n",
       "    <tr>\n",
       "      <th>2017</th>\n",
       "      <td>[2017-06-01, 2017-07-01)</td>\n",
       "      <td>[2017-08-01, 2017-08-31)</td>\n",
       "    </tr>\n",
       "    <tr>\n",
       "      <th>2016</th>\n",
       "      <td>[2016-06-01, 2016-07-01)</td>\n",
       "      <td>[2016-08-01, 2016-08-31)</td>\n",
       "    </tr>\n",
       "    <tr>\n",
       "      <th>2015</th>\n",
       "      <td>[2015-06-01, 2015-07-01)</td>\n",
       "      <td>[2015-08-01, 2015-08-31)</td>\n",
       "    </tr>\n",
       "    <tr>\n",
       "      <th>2014</th>\n",
       "      <td>[2014-06-01, 2014-07-01)</td>\n",
       "      <td>[2014-08-01, 2014-08-31)</td>\n",
       "    </tr>\n",
       "  </tbody>\n",
       "</table>\n",
       "</div>"
      ],
      "text/plain": [
       "i_interval                         -1                         1\n",
       "anchor_year                                                    \n",
       "2018         [2018-06-01, 2018-07-01)  [2018-08-01, 2018-08-31)\n",
       "2017         [2017-06-01, 2017-07-01)  [2017-08-01, 2017-08-31)\n",
       "2016         [2016-06-01, 2016-07-01)  [2016-08-01, 2016-08-31)\n",
       "2015         [2015-06-01, 2015-07-01)  [2015-08-01, 2015-08-31)\n",
       "2014         [2014-06-01, 2014-07-01)  [2014-08-01, 2014-08-31)"
      ]
     },
     "execution_count": 6,
     "metadata": {},
     "output_type": "execute_result"
    }
   ],
   "source": [
    "# show first 5 anchor years in the calendar\n",
    "calendar.show()[:5]"
   ]
  },
  {
   "cell_type": "markdown",
   "metadata": {},
   "source": [
    "#### Train-test split based on the anchor years (70%/30% split)\n",
    "This can be refered to as the \"outer cross-validation layer\"."
   ]
  },
  {
   "cell_type": "code",
   "execution_count": 7,
   "metadata": {},
   "outputs": [],
   "source": [
    "# get 70% of instance as training\n",
    "years = sorted(calendar.get_intervals().index)\n",
    "train_samples = round(len(years) * 0.7)\n",
    "start_year = years[0]"
   ]
  },
  {
   "cell_type": "markdown",
   "metadata": {},
   "source": [
    "#### Fit preprocessor with training samples and preprocess data\n",
    "In this step, we remove trend and take anomalies for the precursor field. Note that here we use raw daily data for detrending and taking anomalies. <br>\n",
    "\n",
    "In general, there are many \"flavors\" of preprocessing, like when to perform this operation, and in which order do we want to preprocess the data. To improve the transparency and reproducibility of our work, we think it is necessary to standardize these steps. To stick to the best practices, we suggest to preprocess your data in the following way."
   ]
  },
  {
   "cell_type": "code",
   "execution_count": 8,
   "metadata": {},
   "outputs": [],
   "source": [
    "# create preprocessor\n",
    "preprocessor = preprocess.Preprocessor(\n",
    "    rolling_window_size=25,\n",
    "    detrend=\"linear\",\n",
    "    subtract_climatology=True,\n",
    ")\n",
    "\n",
    "# fit preprocessor with training data\n",
    "preprocessor.fit(precursor_field.sel(time=slice(str(start_year),\n",
    "                                                str(start_year + train_samples - 1))))"
   ]
  },
  {
   "cell_type": "code",
   "execution_count": 9,
   "metadata": {},
   "outputs": [],
   "source": [
    "# preprocess the whole precursor field\n",
    "precursor_field_prep = preprocessor.transform(precursor_field)"
   ]
  },
  {
   "cell_type": "markdown",
   "metadata": {},
   "source": [
    "#### Resample data to the calendar"
   ]
  },
  {
   "cell_type": "code",
   "execution_count": 10,
   "metadata": {},
   "outputs": [],
   "source": [
    "precursor_field_resample = lilio.resample(calendar, precursor_field_prep)\n",
    "target_field_resample = lilio.resample(calendar, target_field)"
   ]
  },
  {
   "cell_type": "code",
   "execution_count": 11,
   "metadata": {},
   "outputs": [],
   "source": [
    "# select variables and intervals\n",
    "precursor_field_sel = precursor_field_resample['sst']\n",
    "target_series_sel = target_field_resample['ts'].sel(cluster=3)"
   ]
  },
  {
   "cell_type": "markdown",
   "metadata": {},
   "source": [
    "#### Train-test split -> dimensionality reduction & model fitting\n",
    "Train-test split based on the previous split, which can be refered to as \"inner cross-validation layer\" (outer cv loop -> inner cv loop). <br>\n",
    "For each split, we will perform dimensionality reduction and fit the model.\n",
    "\n",
    "For simplicity, in this example we only perform dimensionality reduction with RGDR with only one target interval and one lag. But in practice you can have multiple target intervals and multiple lags. <br>\n",
    "For more information, here is a nice example about multiple target intervals in the [tutorial notebook](https://github.com/AI4S2S/s2spy/blob/main/docs/notebooks/tutorial_RGDR.ipynb) of RGDR."
   ]
  },
  {
   "cell_type": "code",
   "execution_count": 12,
   "metadata": {},
   "outputs": [],
   "source": [
    "# cross-validation with Kfold\n",
    "k_fold_splits = 5\n",
    "kfold = KFold(n_splits=k_fold_splits)\n",
    "cv = lilio.traintest.TrainTestSplit(kfold)\n",
    "\n",
    "# create lists for saving models and predictions\n",
    "models = []\n",
    "predictions = []\n",
    "rmse_train = []\n",
    "rmse_test = []\n",
    "train_test_splits = []\n",
    "\n",
    "# prepare operator for dimensionality reduction\n",
    "target_intervals = 1\n",
    "lag = 1\n",
    "rgdr = RGDR(\n",
    "    target_intervals=target_intervals,\n",
    "    lag=lag,\n",
    "    eps_km=600,\n",
    "    alpha=0.05,\n",
    "    min_area_km2=0\n",
    ")\n",
    "\n",
    "# cross validation based dimensionality reduction and model training\n",
    "for x_train, x_test, y_train, y_test in cv.split(precursor_field_sel, y=target_series_sel):\n",
    "    # log train/test splits with anchor years\n",
    "    train_test_splits.append({\n",
    "        \"train\": x_train.anchor_year.values,\n",
    "        \"test\": x_test.anchor_year.values,\n",
    "    })\n",
    "    # fit dimensionality reduction operator RGDR\n",
    "    rgdr.fit(x_train, y_train)\n",
    "    # transform to train and test data\n",
    "    clusters_train = rgdr.transform(x_train)\n",
    "    clusters_test = rgdr.transform(x_test)\n",
    "    # train model\n",
    "    ridge = Ridge(alpha=1.0)\n",
    "    model = ridge.fit(clusters_train.isel(i_interval=0), y_train.isel(i_interval=1))\n",
    "    # save model\n",
    "    models.append(model)\n",
    "    # predict and save results\n",
    "    prediction = model.predict(clusters_test.isel(i_interval=0))\n",
    "    predictions.append(prediction)\n",
    "    # calculate and save rmse\n",
    "    rmse_train.append(mean_squared_error(y_train.isel(i_interval=1),\n",
    "                                         model.predict(clusters_train.isel(i_interval=0))))\n",
    "    rmse_test.append(mean_squared_error(y_test.isel(i_interval=1),\n",
    "                                        prediction))"
   ]
  },
  {
   "cell_type": "markdown",
   "metadata": {},
   "source": [
    "#### Plot the RMSE for both training and testing for each experiment (split)"
   ]
  },
  {
   "cell_type": "code",
   "execution_count": 14,
   "metadata": {},
   "outputs": [
    {
     "data": {
      "image/png": "[encoded data removed]",
      "text/plain": [
       "<Figure size 640x480 with 1 Axes>"
      ]
     },
     "metadata": {},
     "output_type": "display_data"
    }
   ],
   "source": [
    "import matplotlib.pyplot as plt\n",
    "fig = plt.figure()\n",
    "plt.plot(range(k_fold_splits), rmse_train, \"b--\", label = \"train loss\")\n",
    "plt.plot(range(k_fold_splits), rmse_test, \"r\", label = \"test loss\")\n",
    "ax = fig.gca()\n",
    "ax.set_xticks(range(k_fold_splits))\n",
    "plt.xlabel(\"Experiment\")\n",
    "plt.ylabel(\"RMSE\")\n",
    "plt.legend()\n",
    "plt.show()"
   ]
  }
 ],
 "metadata": {
  "kernelspec": {
   "display_name": "Python 3 (ipykernel)",
   "language": "python",
   "name": "python3"
  },
  "language_info": {
   "codemirror_mode": {
    "name": "ipython",
    "version": 3
   },
   "file_extension": ".py",
   "mimetype": "text/x-python",
   "name": "python",
   "nbconvert_exporter": "python",
   "pygments_lexer": "ipython3",
   "version": "3.10.9"
  }
 },
 "nbformat": 4,
 "nbformat_minor": 4
}
