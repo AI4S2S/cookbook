{
 "cells": [
  {
   "cell_type": "code",
   "execution_count": null,
   "metadata": {},
   "outputs": [],
   "source": [
    "import onnxruntime as ort\n",
    "import dianna\n",
    "import numpy as np\n",
    "import pandas as pd\n",
    "from sklearn.model_selection import train_test_split\n",
    "from dianna.utils.onnx_runner import SimpleModelRunner\n",
    "from dianna.utils.downloader import download\n",
    "\n",
    "from numba.core.errors import NumbaDeprecationWarning\n",
    "import warnings\n",
    "# silence the Numba deprecation warnings in shap\n",
    "warnings.simplefilter('ignore', category=NumbaDeprecationWarning)"
   ]
  },
  {
   "cell_type": "code",
   "execution_count": null,
   "metadata": {},
   "outputs": [],
   "source": [
    "def run_model(data):\n",
    "    # get ONNX predictions\n",
    "    sess = ort.InferenceSession(model_path)\n",
    "    input_name = sess.get_inputs()[0].name\n",
    "    output_name = sess.get_outputs()[0].name\n",
    "\n",
    "    onnx_input = {input_name: data.astype(np.float32)}\n",
    "    pred_onnx = sess.run([output_name], onnx_input)[0]\n",
    "    \n",
    "    return pred_onnx"
   ]
  },
  {
   "cell_type": "code",
   "execution_count": null,
   "metadata": {},
   "outputs": [],
   "source": [
    "data_instance = clusters_test.isel(i_interval=0).to_numpy()\n",
    "\n",
    "data_instance[0]"
   ]
  },
  {
   "cell_type": "code",
   "execution_count": null,
   "metadata": {},
   "outputs": [],
   "source": [
    "df = pd.DataFrame(data_instance, columns =['A', 'B', 'C', 'D']) \n",
    "df"
   ]
  },
  {
   "cell_type": "code",
   "execution_count": null,
   "metadata": {},
   "outputs": [],
   "source": [
    "explanation = dianna.explain_tabular(run_model, input_tabular=data_instance, method='kernelshap',\n",
    "                                     mode ='regression', training_data = clusters.isel(i_interval=0).values.astype(np.float32), \n",
    "                                     training_data_kmeans = 5, feature_names=df.columns)\n",
    "\n",
    "explanation"
   ]
  },
  {
   "cell_type": "code",
   "execution_count": null,
   "metadata": {},
   "outputs": [],
   "source": [
    "from dianna.visualization import plot_tabular\n",
    "\n",
    "fig, _ = plot_tabular(explanation[1], df.columns, num_features=4)"
   ]
  },
  {
   "cell_type": "code",
   "execution_count": null,
   "metadata": {},
   "outputs": [],
   "source": [
    "import shap\n",
    "from shap import Explanation\n",
    "\n",
    "\n",
    "# create summary plot\n",
    "shap.summary_plot(explanation, df.values, feature_names=df.columns, cmap=\"PRGn\", show=False, max_display=15)\n",
    "summary_img = plt.gcf()"
   ]
  },
  {
   "cell_type": "code",
   "execution_count": null,
   "metadata": {},
   "outputs": [],
   "source": [
    "# create heatmap plot\n",
    "shap_values = Explanation(explanation)\n",
    "shap_values.feature_names = df.columns\n",
    "\n",
    "shap.plots.heatmap(shap_values, cmap=\"bwr\", show=False, max_display=15)\n",
    "heatmap_img = plt.gcf()"
   ]
  }
 ],
 "metadata": {
  "kernelspec": {
   "display_name": "env_tf",
   "language": "python",
   "name": "python3"
  },
  "language_info": {
   "name": "python",
   "version": "3.9.19"
  }
 },
 "nbformat": 4,
 "nbformat_minor": 2
}
