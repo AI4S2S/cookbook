{
 "cells": [
  {
   "attachments": {},
   "cell_type": "markdown",
   "metadata": {},
   "source": [
    "## Predict sea ice concentration with sea surface flux using transformer with multi-head attention\n",
    "This notebook serves as an example of a basic workflow with `s2spy` & `lilio` packages. <br>\n",
    "We will predict temperature in US at seasonal time scales using ERA5 dataset with multi-head attention transformer. <br>\n",
    "\n",
    "This recipe includes the following steps:\n",
    "- Define a calendar (`lilio`)\n",
    "- Download/load input data\n",
    "- Map the calendar to the data (`lilio`)\n",
    "- Train-validate-test split (70%/15%/15%) (`torch`)\n",
    "- Preprocessing based on the training set (`s2spy`)\n",
    "- Resample data to the calendar (`lilio`)\n",
    "- Create transformer model (`torch`)\n",
    "- Specify hyper-parameters\n",
    "- Train model (`torch`)\n",
    "- Evaludate model"
   ]
  },
  {
   "cell_type": "code",
   "execution_count": 1,
   "metadata": {},
   "outputs": [],
   "source": [
    "import lilio\n",
    "import numpy as np\n",
    "import sys\n",
    "import time as tt\n",
    "import wandb\n",
    "import xarray as xr\n",
    "from pathlib import Path\n",
    "from s2spy import preprocess\n",
    "import torch\n",
    "from torch import nn\n",
    "from torch import Tensor\n",
    "import torch.nn.functional as f\n",
    "\n",
    "sys.path.append(\"../src/\")\n",
    "from transformer import Transformer\n",
    "import utils"
   ]
  },
  {
   "cell_type": "markdown",
   "metadata": {},
   "source": [
    "#### Define a calendar with `lilio` to specify time range for targets and precursors."
   ]
  },
  {
   "cell_type": "code",
   "execution_count": 2,
   "metadata": {},
   "outputs": [],
   "source": [
    "# create NWP calendar for constrained forecasts/hindcasts\n",
    "# create custom calendar based on the time of interest\n",
    "calendar = lilio.Calendar(anchor=\"08-01\")\n",
    "# add target periods\n",
    "calendar.add_intervals(\"target\", length=\"30d\")\n",
    "# add precursor periods\n",
    "periods_of_interest = 8\n",
    "for _ in range(periods_of_interest):\n",
    "    calendar.add_intervals(\"precursor\", \"15d\", gap=\"15d\")"
   ]
  },
  {
   "cell_type": "code",
   "execution_count": 3,
   "metadata": {},
   "outputs": [
    {
     "data": {
      "text/plain": [
       "Calendar(\n",
       "    anchor='08-01',\n",
       "    allow_overlap=False,\n",
       "    mapping=None,\n",
       "    intervals=[\n",
       "        Interval(role='target', length='30d', gap='0d'),\n",
       "        Interval(role='precursor', length='15d', gap='15d'),\n",
       "        Interval(role='precursor', length='15d', gap='15d'),\n",
       "        Interval(role='precursor', length='15d', gap='15d'),\n",
       "        Interval(role='precursor', length='15d', gap='15d'),\n",
       "        Interval(role='precursor', length='15d', gap='15d'),\n",
       "        Interval(role='precursor', length='15d', gap='15d'),\n",
       "        Interval(role='precursor', length='15d', gap='15d'),\n",
       "        Interval(role='precursor', length='15d', gap='15d')\n",
       "    ]\n",
       ")"
      ]
     },
     "execution_count": 3,
     "metadata": {},
     "output_type": "execute_result"
    }
   ],
   "source": [
    "# check calendar\n",
    "calendar"
   ]
  },
  {
   "cell_type": "code",
   "execution_count": 4,
   "metadata": {},
   "outputs": [],
   "source": [
    "# load data\n",
    "data_folder = '~/AI4S2S/data'\n",
    "precursor_field = xr.open_dataset(Path(data_folder, 'sst_daily_1979-2018_5deg_Pacific_175_240E_25_50N.nc'))\n",
    "target_field = xr.open_dataset(Path(data_folder,'tf5_nc5_dendo_80d77.nc'))"
   ]
  },
  {
   "cell_type": "markdown",
   "metadata": {},
   "source": [
    "#### Map the calendar to the data"
   ]
  },
  {
   "cell_type": "code",
   "execution_count": 5,
   "metadata": {},
   "outputs": [
    {
     "data": {
      "image/png": "[encoded data removed]",
      "text/plain": [
       "<Figure size 700x400 with 1 Axes>"
      ]
     },
     "metadata": {},
     "output_type": "display_data"
    }
   ],
   "source": [
    "# map calendar to data\n",
    "calendar.map_to_data(precursor_field)\n",
    "calendar.visualize(show_length=True)"
   ]
  },
  {
   "cell_type": "code",
   "execution_count": 6,
   "metadata": {},
   "outputs": [
    {
     "data": {
      "text/html": [
       "<div>\n",
       "<style scoped>\n",
       "    .dataframe tbody tr th:only-of-type {\n",
       "        vertical-align: middle;\n",
       "    }\n",
       "\n",
       "    .dataframe tbody tr th {\n",
       "        vertical-align: top;\n",
       "    }\n",
       "\n",
       "    .dataframe thead th {\n",
       "        text-align: right;\n",
       "    }\n",
       "</style>\n",
       "<table border=\"1\" class=\"dataframe\">\n",
       "  <thead>\n",
       "    <tr style=\"text-align: right;\">\n",
       "      <th>i_interval</th>\n",
       "      <th>-8</th>\n",
       "      <th>-7</th>\n",
       "      <th>-6</th>\n",
       "      <th>-5</th>\n",
       "      <th>-4</th>\n",
       "      <th>-3</th>\n",
       "      <th>-2</th>\n",
       "      <th>-1</th>\n",
       "      <th>1</th>\n",
       "    </tr>\n",
       "    <tr>\n",
       "      <th>anchor_year</th>\n",
       "      <th></th>\n",
       "      <th></th>\n",
       "      <th></th>\n",
       "      <th></th>\n",
       "      <th></th>\n",
       "      <th></th>\n",
       "      <th></th>\n",
       "      <th></th>\n",
       "      <th></th>\n",
       "    </tr>\n",
       "  </thead>\n",
       "  <tbody>\n",
       "    <tr>\n",
       "      <th>2018</th>\n",
       "      <td>[2017-12-04, 2017-12-19)</td>\n",
       "      <td>[2018-01-03, 2018-01-18)</td>\n",
       "      <td>[2018-02-02, 2018-02-17)</td>\n",
       "      <td>[2018-03-04, 2018-03-19)</td>\n",
       "      <td>[2018-04-03, 2018-04-18)</td>\n",
       "      <td>[2018-05-03, 2018-05-18)</td>\n",
       "      <td>[2018-06-02, 2018-06-17)</td>\n",
       "      <td>[2018-07-02, 2018-07-17)</td>\n",
       "      <td>[2018-08-01, 2018-08-31)</td>\n",
       "    </tr>\n",
       "    <tr>\n",
       "      <th>2017</th>\n",
       "      <td>[2016-12-04, 2016-12-19)</td>\n",
       "      <td>[2017-01-03, 2017-01-18)</td>\n",
       "      <td>[2017-02-02, 2017-02-17)</td>\n",
       "      <td>[2017-03-04, 2017-03-19)</td>\n",
       "      <td>[2017-04-03, 2017-04-18)</td>\n",
       "      <td>[2017-05-03, 2017-05-18)</td>\n",
       "      <td>[2017-06-02, 2017-06-17)</td>\n",
       "      <td>[2017-07-02, 2017-07-17)</td>\n",
       "      <td>[2017-08-01, 2017-08-31)</td>\n",
       "    </tr>\n",
       "    <tr>\n",
       "      <th>2016</th>\n",
       "      <td>[2015-12-05, 2015-12-20)</td>\n",
       "      <td>[2016-01-04, 2016-01-19)</td>\n",
       "      <td>[2016-02-03, 2016-02-18)</td>\n",
       "      <td>[2016-03-04, 2016-03-19)</td>\n",
       "      <td>[2016-04-03, 2016-04-18)</td>\n",
       "      <td>[2016-05-03, 2016-05-18)</td>\n",
       "      <td>[2016-06-02, 2016-06-17)</td>\n",
       "      <td>[2016-07-02, 2016-07-17)</td>\n",
       "      <td>[2016-08-01, 2016-08-31)</td>\n",
       "    </tr>\n",
       "    <tr>\n",
       "      <th>2015</th>\n",
       "      <td>[2014-12-04, 2014-12-19)</td>\n",
       "      <td>[2015-01-03, 2015-01-18)</td>\n",
       "      <td>[2015-02-02, 2015-02-17)</td>\n",
       "      <td>[2015-03-04, 2015-03-19)</td>\n",
       "      <td>[2015-04-03, 2015-04-18)</td>\n",
       "      <td>[2015-05-03, 2015-05-18)</td>\n",
       "      <td>[2015-06-02, 2015-06-17)</td>\n",
       "      <td>[2015-07-02, 2015-07-17)</td>\n",
       "      <td>[2015-08-01, 2015-08-31)</td>\n",
       "    </tr>\n",
       "    <tr>\n",
       "      <th>2014</th>\n",
       "      <td>[2013-12-04, 2013-12-19)</td>\n",
       "      <td>[2014-01-03, 2014-01-18)</td>\n",
       "      <td>[2014-02-02, 2014-02-17)</td>\n",
       "      <td>[2014-03-04, 2014-03-19)</td>\n",
       "      <td>[2014-04-03, 2014-04-18)</td>\n",
       "      <td>[2014-05-03, 2014-05-18)</td>\n",
       "      <td>[2014-06-02, 2014-06-17)</td>\n",
       "      <td>[2014-07-02, 2014-07-17)</td>\n",
       "      <td>[2014-08-01, 2014-08-31)</td>\n",
       "    </tr>\n",
       "  </tbody>\n",
       "</table>\n",
       "</div>"
      ],
      "text/plain": [
       "i_interval                         -8                        -7  \\\n",
       "anchor_year                                                       \n",
       "2018         [2017-12-04, 2017-12-19)  [2018-01-03, 2018-01-18)   \n",
       "2017         [2016-12-04, 2016-12-19)  [2017-01-03, 2017-01-18)   \n",
       "2016         [2015-12-05, 2015-12-20)  [2016-01-04, 2016-01-19)   \n",
       "2015         [2014-12-04, 2014-12-19)  [2015-01-03, 2015-01-18)   \n",
       "2014         [2013-12-04, 2013-12-19)  [2014-01-03, 2014-01-18)   \n",
       "\n",
       "i_interval                         -6                        -5  \\\n",
       "anchor_year                                                       \n",
       "2018         [2018-02-02, 2018-02-17)  [2018-03-04, 2018-03-19)   \n",
       "2017         [2017-02-02, 2017-02-17)  [2017-03-04, 2017-03-19)   \n",
       "2016         [2016-02-03, 2016-02-18)  [2016-03-04, 2016-03-19)   \n",
       "2015         [2015-02-02, 2015-02-17)  [2015-03-04, 2015-03-19)   \n",
       "2014         [2014-02-02, 2014-02-17)  [2014-03-04, 2014-03-19)   \n",
       "\n",
       "i_interval                         -4                        -3  \\\n",
       "anchor_year                                                       \n",
       "2018         [2018-04-03, 2018-04-18)  [2018-05-03, 2018-05-18)   \n",
       "2017         [2017-04-03, 2017-04-18)  [2017-05-03, 2017-05-18)   \n",
       "2016         [2016-04-03, 2016-04-18)  [2016-05-03, 2016-05-18)   \n",
       "2015         [2015-04-03, 2015-04-18)  [2015-05-03, 2015-05-18)   \n",
       "2014         [2014-04-03, 2014-04-18)  [2014-05-03, 2014-05-18)   \n",
       "\n",
       "i_interval                         -2                        -1  \\\n",
       "anchor_year                                                       \n",
       "2018         [2018-06-02, 2018-06-17)  [2018-07-02, 2018-07-17)   \n",
       "2017         [2017-06-02, 2017-06-17)  [2017-07-02, 2017-07-17)   \n",
       "2016         [2016-06-02, 2016-06-17)  [2016-07-02, 2016-07-17)   \n",
       "2015         [2015-06-02, 2015-06-17)  [2015-07-02, 2015-07-17)   \n",
       "2014         [2014-06-02, 2014-06-17)  [2014-07-02, 2014-07-17)   \n",
       "\n",
       "i_interval                          1  \n",
       "anchor_year                            \n",
       "2018         [2018-08-01, 2018-08-31)  \n",
       "2017         [2017-08-01, 2017-08-31)  \n",
       "2016         [2016-08-01, 2016-08-31)  \n",
       "2015         [2015-08-01, 2015-08-31)  \n",
       "2014         [2014-08-01, 2014-08-31)  "
      ]
     },
     "execution_count": 6,
     "metadata": {},
     "output_type": "execute_result"
    }
   ],
   "source": [
    "calendar.show()[:5]"
   ]
  },
  {
   "cell_type": "markdown",
   "metadata": {},
   "source": [
    "#### Train-validate-test split based on the anchor years (70%/15%/15% split)"
   ]
  },
  {
   "cell_type": "code",
   "execution_count": 7,
   "metadata": {},
   "outputs": [],
   "source": [
    "# get 70% of instance as training\n",
    "years = sorted(calendar.get_intervals().index)\n",
    "train_samples = round(len(years) * 0.7)\n",
    "test_samples = round(len(years) * 0.15)\n",
    "start_year = years[0]"
   ]
  },
  {
   "cell_type": "markdown",
   "metadata": {},
   "source": [
    "#### Fit preprocessor with training samples and preprocess data\n",
    "Remove trend and take anomalies for the precursor field."
   ]
  },
  {
   "cell_type": "code",
   "execution_count": 8,
   "metadata": {},
   "outputs": [],
   "source": [
    "# create preprocessor\n",
    "preprocessor = preprocess.Preprocessor(\n",
    "    rolling_window_size=25,\n",
    "    detrend=\"linear\",\n",
    "    subtract_climatology=True,\n",
    ")\n",
    "\n",
    "# fit preprocessor with training data\n",
    "preprocessor.fit(precursor_field.sel(time=slice(str(start_year),\n",
    "                                                str(start_year + train_samples - 1))))"
   ]
  },
  {
   "cell_type": "code",
   "execution_count": 9,
   "metadata": {},
   "outputs": [],
   "source": [
    "# preprocess the whole precursor field\n",
    "precursor_field_prep = preprocessor.transform(precursor_field)"
   ]
  },
  {
   "cell_type": "markdown",
   "metadata": {},
   "source": [
    "Resample data to the calendar"
   ]
  },
  {
   "cell_type": "code",
   "execution_count": 10,
   "metadata": {},
   "outputs": [],
   "source": [
    "precursor_field_resample = lilio.resample(calendar, precursor_field_prep)\n",
    "target_field_resample = lilio.resample(calendar, target_field)"
   ]
  },
  {
   "cell_type": "code",
   "execution_count": 11,
   "metadata": {},
   "outputs": [],
   "source": [
    "# select variables and intervals\n",
    "precursor_field_sel = precursor_field_resample['sst']\n",
    "target_series_sel = target_field_resample['ts'].sel(cluster=3)"
   ]
  },
  {
   "cell_type": "code",
   "execution_count": 12,
   "metadata": {},
   "outputs": [],
   "source": [
    "# slice and reshape input desired by transformer\n",
    "sequence_precursor = len(precursor_field_sel.i_interval) - 1 # we only take precursor parts of i intervals\n",
    "lat_precursor = len(precursor_field_sel.latitude)\n",
    "lon_precursor = len(precursor_field_sel.longitude)\n",
    "\n",
    "X_torch = torch.from_numpy(precursor_field_sel[:,:-1,:,:].data).type(torch.FloatTensor)\n",
    "y_torch = torch.from_numpy(target_series_sel[:,-1].data).type(torch.FloatTensor)\n",
    "\n",
    "X_torch = X_torch.view(-1, sequence_precursor, lat_precursor*lon_precursor)\n",
    "y_torch = y_torch.unsqueeze(1).unsqueeze(1).repeat(1, 1, lat_precursor*lon_precursor)\n",
    "\n",
    "# turn nan to 0.0\n",
    "X_torch = torch.nan_to_num(X_torch, 0.0)"
   ]
  },
  {
   "cell_type": "code",
   "execution_count": 13,
   "metadata": {},
   "outputs": [],
   "source": [
    "# train/validate/test split and use pytorch dataloader\n",
    "train_X_torch = X_torch[:train_samples]\n",
    "train_y_torch = y_torch[:train_samples]\n",
    "\n",
    "valid_X_torch = X_torch[train_samples:train_samples + test_samples]\n",
    "valid_y_torch = y_torch[train_samples:train_samples + test_samples]\n",
    "\n",
    "test_X_torch = X_torch[-test_samples:]\n",
    "test_y_torch = y_torch[-test_samples:]\n",
    "\n",
    "# pytorch train and test sets\n",
    "train_set = torch.utils.data.TensorDataset(train_X_torch, train_y_torch)\n",
    "valid_set = torch.utils.data.TensorDataset(valid_X_torch, valid_y_torch)\n",
    "test_set = torch.utils.data.TensorDataset(test_X_torch, test_y_torch)"
   ]
  },
  {
   "attachments": {},
   "cell_type": "markdown",
   "metadata": {},
   "source": [
    "#### Hyper-parameter tuning with W&B\n",
    "System info and syncronize training information with W&B server."
   ]
  },
  {
   "cell_type": "code",
   "execution_count": 14,
   "metadata": {},
   "outputs": [
    {
     "name": "stderr",
     "output_type": "stream",
     "text": [
      "Failed to detect the name of this notebook, you can set it manually with the WANDB_NOTEBOOK_NAME environment variable to enable code saving.\n"
     ]
    },
    {
     "name": "stdout",
     "output_type": "stream",
     "text": [
      "Pytorch version 1.12.1\n",
      "Is CUDA available? False\n",
      "Device to be used for computation: cpu\n"
     ]
    },
    {
     "name": "stderr",
     "output_type": "stream",
     "text": [
      "\u001b[34m\u001b[1mwandb\u001b[0m: Currently logged in as: \u001b[33mgit-yang\u001b[0m (\u001b[33mai4s2s\u001b[0m). Use \u001b[1m`wandb login --relogin`\u001b[0m to force relogin\n"
     ]
    },
    {
     "data": {
      "text/plain": [
       "True"
      ]
     },
     "execution_count": 14,
     "metadata": {},
     "output_type": "execute_result"
    }
   ],
   "source": [
    "print (\"Pytorch version {}\".format(torch.__version__))\n",
    "use_cuda = torch.cuda.is_available()\n",
    "print(\"Is CUDA available? {}\".format(use_cuda))\n",
    "# use GPU if possible\n",
    "device = torch.device(\"cuda:0\" if torch.cuda.is_available() else \"cpu\")\n",
    "print(\"Device to be used for computation: {}\".format(device))\n",
    "# call weights & biases service\n",
    "wandb.login()"
   ]
  },
  {
   "attachments": {},
   "cell_type": "markdown",
   "metadata": {},
   "source": [
    "Define hyperparameters and initialize config for wandb."
   ]
  },
  {
   "cell_type": "code",
   "execution_count": 15,
   "metadata": {},
   "outputs": [],
   "source": [
    "hyperparameters = dict(\n",
    "    epoch = 10,\n",
    "    num_encoder_layers = 1,\n",
    "    num_decoder_layers = 1,\n",
    "    dim_model = lat_precursor*lon_precursor,\n",
    "    num_heads = 2,\n",
    "    dim_feedforward = 12,\n",
    "    batch_size = 4,\n",
    "    dropout = 0.1,\n",
    "    learning_rate = 0.01,\n",
    "    dataset = 'Weather',\n",
    "    architecture = 'Transformer'\n",
    ")\n",
    "\n",
    "# initialize weights & biases service\n",
    "#mode = 'online'\n",
    "mode = 'disabled'\n",
    "wandb.init(config=hyperparameters, project='geometric-shapes', entity='dianna-ai', mode=mode)\n",
    "config = wandb.config"
   ]
  },
  {
   "cell_type": "code",
   "execution_count": 16,
   "metadata": {},
   "outputs": [],
   "source": [
    "# create data loader and use batch \n",
    "train_loader = torch.utils.data.DataLoader(train_set, batch_size = config.batch_size, shuffle = False)\n",
    "valid_loader = torch.utils.data.DataLoader(valid_set, batch_size = config.batch_size, shuffle = False)\n",
    "test_loader = torch.utils.data.DataLoader(test_set, batch_size = config.batch_size, shuffle = False)"
   ]
  },
  {
   "attachments": {},
   "cell_type": "markdown",
   "metadata": {},
   "source": [
    "#### Initialize and train model\n",
    "Create transformer. Initialize model and choose loss function and optimizer."
   ]
  },
  {
   "cell_type": "code",
   "execution_count": 17,
   "metadata": {},
   "outputs": [
    {
     "name": "stdout",
     "output_type": "stream",
     "text": [
      "Model details:\n",
      " Transformer(\n",
      "  (encoder): TransformerEncoder(\n",
      "    (layers): ModuleList(\n",
      "      (0): TransformerEncoderLayer(\n",
      "        (attention): Residual(\n",
      "          (sublayer): MultiHeadAttention(\n",
      "            (heads): ModuleList(\n",
      "              (0): AttentionHead(\n",
      "                (q): Linear(in_features=65, out_features=32, bias=True)\n",
      "                (k): Linear(in_features=65, out_features=32, bias=True)\n",
      "                (v): Linear(in_features=65, out_features=32, bias=True)\n",
      "              )\n",
      "              (1): AttentionHead(\n",
      "                (q): Linear(in_features=65, out_features=32, bias=True)\n",
      "                (k): Linear(in_features=65, out_features=32, bias=True)\n",
      "                (v): Linear(in_features=65, out_features=32, bias=True)\n",
      "              )\n",
      "            )\n",
      "            (linear): Linear(in_features=64, out_features=65, bias=True)\n",
      "          )\n",
      "          (norm): LayerNorm((65,), eps=1e-05, elementwise_affine=True)\n",
      "          (dropout): Dropout(p=0.1, inplace=False)\n",
      "        )\n",
      "        (feed_forward): Residual(\n",
      "          (sublayer): Sequential(\n",
      "            (0): Linear(in_features=65, out_features=12, bias=True)\n",
      "            (1): ReLU()\n",
      "            (2): Linear(in_features=12, out_features=65, bias=True)\n",
      "          )\n",
      "          (norm): LayerNorm((65,), eps=1e-05, elementwise_affine=True)\n",
      "          (dropout): Dropout(p=0.1, inplace=False)\n",
      "        )\n",
      "      )\n",
      "    )\n",
      "  )\n",
      "  (decoder): TransformerDecoder(\n",
      "    (layers): ModuleList(\n",
      "      (0): TransformerDecoderLayer(\n",
      "        (attention_1): Residual(\n",
      "          (sublayer): MultiHeadAttention(\n",
      "            (heads): ModuleList(\n",
      "              (0): AttentionHead(\n",
      "                (q): Linear(in_features=65, out_features=32, bias=True)\n",
      "                (k): Linear(in_features=65, out_features=32, bias=True)\n",
      "                (v): Linear(in_features=65, out_features=32, bias=True)\n",
      "              )\n",
      "              (1): AttentionHead(\n",
      "                (q): Linear(in_features=65, out_features=32, bias=True)\n",
      "                (k): Linear(in_features=65, out_features=32, bias=True)\n",
      "                (v): Linear(in_features=65, out_features=32, bias=True)\n",
      "              )\n",
      "            )\n",
      "            (linear): Linear(in_features=64, out_features=65, bias=True)\n",
      "          )\n",
      "          (norm): LayerNorm((65,), eps=1e-05, elementwise_affine=True)\n",
      "          (dropout): Dropout(p=0.1, inplace=False)\n",
      "        )\n",
      "        (attention_2): Residual(\n",
      "          (sublayer): MultiHeadAttention(\n",
      "            (heads): ModuleList(\n",
      "              (0): AttentionHead(\n",
      "                (q): Linear(in_features=65, out_features=32, bias=True)\n",
      "                (k): Linear(in_features=65, out_features=32, bias=True)\n",
      "                (v): Linear(in_features=65, out_features=32, bias=True)\n",
      "              )\n",
      "              (1): AttentionHead(\n",
      "                (q): Linear(in_features=65, out_features=32, bias=True)\n",
      "                (k): Linear(in_features=65, out_features=32, bias=True)\n",
      "                (v): Linear(in_features=65, out_features=32, bias=True)\n",
      "              )\n",
      "            )\n",
      "            (linear): Linear(in_features=64, out_features=65, bias=True)\n",
      "          )\n",
      "          (norm): LayerNorm((65,), eps=1e-05, elementwise_affine=True)\n",
      "          (dropout): Dropout(p=0.1, inplace=False)\n",
      "        )\n",
      "        (feed_forward): Residual(\n",
      "          (sublayer): Sequential(\n",
      "            (0): Linear(in_features=65, out_features=12, bias=True)\n",
      "            (1): ReLU()\n",
      "            (2): Linear(in_features=12, out_features=65, bias=True)\n",
      "          )\n",
      "          (norm): LayerNorm((65,), eps=1e-05, elementwise_affine=True)\n",
      "          (dropout): Dropout(p=0.1, inplace=False)\n",
      "        )\n",
      "      )\n",
      "    )\n",
      "    (linear): Linear(in_features=65, out_features=65, bias=True)\n",
      "  )\n",
      ")\n",
      "Optimizer details:\n",
      " Adam (\n",
      "Parameter Group 0\n",
      "    amsgrad: False\n",
      "    betas: (0.9, 0.999)\n",
      "    capturable: False\n",
      "    eps: 1e-08\n",
      "    foreach: None\n",
      "    lr: 0.01\n",
      "    maximize: False\n",
      "    weight_decay: 0\n",
      ")\n"
     ]
    }
   ],
   "source": [
    "# Initialize model\n",
    "model = Transformer(num_encoder_layers = hyperparameters[\"num_encoder_layers\"],\n",
    "                    num_decoder_layers = hyperparameters[\"num_decoder_layers\"],\n",
    "                    dim_model = hyperparameters[\"dim_model\"], \n",
    "                    num_heads = hyperparameters[\"num_heads\"], \n",
    "                    dim_feedforward = hyperparameters[\"dim_feedforward\"], \n",
    "                    dropout = hyperparameters[\"dropout\"])\n",
    "# Specify loss function\n",
    "criterion = nn.MSELoss()\n",
    "# Choose optimizer\n",
    "optimizer = torch.optim.Adam(model.parameters(), lr=config.learning_rate)\n",
    "# Print model and optimizer details\n",
    "print('Model details:\\n', model)\n",
    "print('Optimizer details:\\n',optimizer)"
   ]
  },
  {
   "cell_type": "markdown",
   "metadata": {},
   "source": [
    "Start the training loop."
   ]
  },
  {
   "cell_type": "code",
   "execution_count": 18,
   "metadata": {},
   "outputs": [
    {
     "name": "stdout",
     "output_type": "stream",
     "text": [
      "Epoch : 0 [0/27(0%)]\tLoss: 4.656744\n",
      "Epoch : 0 [16/27(57%)]\tLoss: 1.299304\n",
      "Epoch : 1 [0/27(0%)]\tLoss: 4.656675\n",
      "Epoch : 1 [16/27(57%)]\tLoss: 1.299284\n",
      "Epoch : 2 [0/27(0%)]\tLoss: 4.656658\n",
      "Epoch : 2 [16/27(57%)]\tLoss: 1.299279\n",
      "Epoch : 3 [0/27(0%)]\tLoss: 4.656655\n",
      "Epoch : 3 [16/27(57%)]\tLoss: 1.299274\n",
      "Epoch : 4 [0/27(0%)]\tLoss: 4.656651\n",
      "Epoch : 4 [16/27(57%)]\tLoss: 1.299271\n",
      "Epoch : 5 [0/27(0%)]\tLoss: 4.656650\n",
      "Epoch : 5 [16/27(57%)]\tLoss: 1.299271\n",
      "Epoch : 6 [0/27(0%)]\tLoss: 4.656647\n",
      "Epoch : 6 [16/27(57%)]\tLoss: 1.299270\n",
      "Epoch : 7 [0/27(0%)]\tLoss: 4.656648\n",
      "Epoch : 7 [16/27(57%)]\tLoss: 1.299268\n",
      "Epoch : 8 [0/27(0%)]\tLoss: 4.656648\n",
      "Epoch : 8 [16/27(57%)]\tLoss: 1.299269\n",
      "Epoch : 9 [0/27(0%)]\tLoss: 4.656647\n",
      "Epoch : 9 [16/27(57%)]\tLoss: 1.299268\n",
      "--- 0.012736435731252034 minutes ---\n"
     ]
    }
   ],
   "source": [
    "# switch model into train mode\n",
    "model.train()\n",
    "\n",
    "# calculate the time for the code execution\n",
    "start_time = tt.time()\n",
    "hist_train = []\n",
    "hist_valid = []\n",
    "for epoch in range(config.epoch):\n",
    "    hist_train_epoch = 0\n",
    "    for batch_idx, (X_batch, y_batch) in enumerate(train_loader):\n",
    "        var_X_batch = torch.autograd.Variable(X_batch).to(device)\n",
    "        var_y_batch = torch.autograd.Variable(y_batch).to(device)\n",
    "        optimizer.zero_grad()\n",
    "        output = model(var_X_batch, var_X_batch.detach().clone()[:,-1:,:])\n",
    "        loss = criterion(output, var_y_batch)\n",
    "        loss.backward()\n",
    "        optimizer.step()\n",
    "        wandb.log({'train_loss': loss.item()})\n",
    "        if batch_idx % 4 == 0:\n",
    "            print(f'Epoch : {epoch} [{batch_idx*len(X_batch)}/{len(train_loader.dataset)}'\n",
    "                  f'({100.* batch_idx / len(train_loader):.0f}%)]\\tLoss: {loss.item():.6f}')\n",
    "        hist_train_epoch += loss.item()\n",
    "\n",
    "    hist_train.append(hist_train_epoch)\n",
    "\n",
    "    # # add validation results\n",
    "    # for batch_idx, (X_batch, y_batch) in enumerate(valid_loader):\n",
    "        \n",
    "\n",
    "print (f\"--- {(tt.time() - start_time)/60} minutes ---\")"
   ]
  },
  {
   "cell_type": "code",
   "execution_count": 19,
   "metadata": {},
   "outputs": [
    {
     "data": {
      "text/plain": [
       "[<matplotlib.lines.Line2D at 0x7f0fbdbee830>]"
      ]
     },
     "execution_count": 19,
     "metadata": {},
     "output_type": "execute_result"
    },
    {
     "data": {
      "image/png": "[encoded data removed]",
      "text/plain": [
       "<Figure size 640x480 with 1 Axes>"
      ]
     },
     "metadata": {},
     "output_type": "display_data"
    }
   ],
   "source": [
    "import matplotlib.pyplot as plt\n",
    "plt.plot(hist_train)"
   ]
  },
  {
   "cell_type": "code",
   "execution_count": 20,
   "metadata": {},
   "outputs": [],
   "source": [
    "# save the general checkpoint\n",
    "# output_path = \"../models/\"\n",
    "\n",
    "# torch.save({\n",
    "#             'epoch': epoch,\n",
    "#             'model_state_dict': model.state_dict(),\n",
    "#             'optimizer_state_dict': optimizer.state_dict(),\n",
    "#             'loss': loss.item()\n",
    "#             }, Path(output_path,'transformer_train_checkpoint.pt'))"
   ]
  },
  {
   "cell_type": "markdown",
   "metadata": {},
   "source": [
    "#### Evaluate model"
   ]
  },
  {
   "cell_type": "code",
   "execution_count": 21,
   "metadata": {},
   "outputs": [],
   "source": [
    "# model.eval()\n",
    "\n"
   ]
  },
  {
   "cell_type": "markdown",
   "metadata": {},
   "source": [
    "Visualization"
   ]
  }
 ],
 "metadata": {
  "kernelspec": {
   "display_name": "s2spy",
   "language": "python",
   "name": "python3"
  },
  "language_info": {
   "codemirror_mode": {
    "name": "ipython",
    "version": 3
   },
   "file_extension": ".py",
   "mimetype": "text/x-python",
   "name": "python",
   "nbconvert_exporter": "python",
   "pygments_lexer": "ipython3",
   "version": "3.10.9"
  },
  "orig_nbformat": 4
 },
 "nbformat": 4,
 "nbformat_minor": 2
}
