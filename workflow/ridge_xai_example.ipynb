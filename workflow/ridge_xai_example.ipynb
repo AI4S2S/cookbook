{
 "cells": [
  {
   "cell_type": "code",
   "execution_count": 77,
   "metadata": {},
   "outputs": [],
   "source": [
    "import os\n",
    "import pandas as pd\n",
    "import numpy as np\n",
    "from dianna import visualization\n",
    "from matplotlib import pyplot as plt\n",
    "from sklearn.model_selection import train_test_split\n",
    "import onnx\n",
    "import onnxruntime as ort\n",
    "import dianna\n",
    "from dianna.utils.downloader import download\n",
    "\n",
    "import lilio\n",
    "import urllib\n",
    "import xarray as xr\n",
    "from s2spy import preprocess\n",
    "from s2spy import RGDR\n",
    "from sklearn.linear_model import Ridge\n",
    "from sklearn.metrics import mean_squared_error\n",
    "from sklearn.model_selection import KFold\n",
    "from skl2onnx import to_onnx\n",
    "import numpy as np\n",
    "import onnxruntime as ort\n",
    "from pathlib import Path\n",
    "\n",
    "np.random.seed(0)\n"
   ]
  },
  {
   "cell_type": "code",
   "execution_count": 78,
   "metadata": {},
   "outputs": [],
   "source": [
    "# create custom calendar based on the time of interest\n",
    "calendar = lilio.Calendar(anchor=\"08-01\", allow_overlap=True)\n",
    "# add target periods\n",
    "calendar.add_intervals(\"target\", length=\"30d\")\n",
    "# add precursor periods\n",
    "periods_of_interest = 8\n",
    "calendar.add_intervals(\"precursor\", \"1M\", gap=\"1M\", n=periods_of_interest)"
   ]
  },
  {
   "cell_type": "code",
   "execution_count": null,
   "metadata": {},
   "outputs": [],
   "source": [
    "# Load precursor data from zarr\n",
    "ar_full_37_1h = xr.open_zarr(\n",
    "    'gs://gcp-public-data-arco-era5/ar/full_37-1h-0p25deg-chunk-1.zarr-v3',\n",
    "    chunks='auto',\n",
    "    storage_options=dict(token='anon'),\n",
    ")\n",
    "\n",
    "da = ar_full_37_1h[\"sea_surface_temperature\"].isel(time=slice(None, None, 6))\n",
    "da = da.sel(time=slice(\"1959-01-01T00:00:00\", \"2021-12-31T00:00:00\"))\n",
    "\n",
    "sst_f = da.sel(latitude=slice(50, -10), longitude=slice(180, 240))\n",
    "\n",
    "sst_f"
   ]
  },
  {
   "cell_type": "code",
   "execution_count": null,
   "metadata": {},
   "outputs": [],
   "source": [
    "precursor_field = sst_f.to_dataset(name='sst')\n",
    "\n",
    "precursor_field"
   ]
  },
  {
   "cell_type": "code",
   "execution_count": null,
   "metadata": {},
   "outputs": [],
   "source": [
    "# URL of the dataset from zenodo\n",
    "# sst_url = \"https://zenodo.org/record/8186914/files/sst_daily_1959-2021_5deg_Pacific_175_240E_25_50N.nc\"\n",
    "t2m_url = \"https://zenodo.org/record/8186914/files/t2m_daily_1959-2021_2deg_clustered_226_300E_30_70N.nc\"\n",
    "# sst_field = \"sst_daily_1959-2021_5deg_Pacific_175_240E_25_50N.nc\"\n",
    "t2m_field = \"t2m_daily_1959-2021_2deg_clustered_226_300E_30_70N.nc\"\n",
    "\n",
    "# urllib.request.urlretrieve(sst_url, sst_field)\n",
    "urllib.request.urlretrieve(t2m_url, t2m_field)"
   ]
  },
  {
   "cell_type": "code",
   "execution_count": null,
   "metadata": {},
   "outputs": [],
   "source": [
    "# load data\n",
    "# precursor_field = xr.open_dataset(sst_field)\n",
    "target_field = xr.open_dataset(t2m_field)\n",
    "\n",
    "precursor_field"
   ]
  },
  {
   "cell_type": "code",
   "execution_count": null,
   "metadata": {},
   "outputs": [],
   "source": [
    "# Convert Kelvin to Celsius\n",
    "precursor_field[\"sst\"] = precursor_field[\"sst\"] - 273.15\n",
    "target_field[\"t2m\"] = target_field[\"t2m\"] - 273.15\n",
    "\n",
    "precursor_field[\"sst\"]"
   ]
  },
  {
   "cell_type": "code",
   "execution_count": null,
   "metadata": {},
   "outputs": [],
   "source": [
    "# map calendar to data\n",
    "calendar.map_to_data(precursor_field)\n",
    "calendar.visualize(show_length=True)"
   ]
  },
  {
   "cell_type": "code",
   "execution_count": 85,
   "metadata": {},
   "outputs": [],
   "source": [
    "# get 70% of instance as training\n",
    "years = sorted(calendar.get_intervals().index)\n",
    "train_samples = round(len(years) * 0.7)\n",
    "start_year = years[0]"
   ]
  },
  {
   "cell_type": "code",
   "execution_count": null,
   "metadata": {},
   "outputs": [],
   "source": [
    "# create preprocessor\n",
    "preprocessor = preprocess.Preprocessor(\n",
    "    rolling_window_size=25,\n",
    "    timescale=\"monthly\",\n",
    "    detrend=\"linear\",\n",
    "    subtract_climatology=True,\n",
    ")\n",
    "\n",
    "# fit preprocessor with training data\n",
    "preprocessor.fit(\n",
    "    precursor_field.sel(\n",
    "        time=slice(str(start_year), str(start_year + train_samples - 1))\n",
    "    )\n",
    ")"
   ]
  },
  {
   "cell_type": "code",
   "execution_count": null,
   "metadata": {},
   "outputs": [],
   "source": [
    "# preprocess the whole precursor field\n",
    "precursor_field_prep = preprocessor.transform(precursor_field)"
   ]
  },
  {
   "cell_type": "code",
   "execution_count": null,
   "metadata": {},
   "outputs": [],
   "source": [
    "precursor_field_resample = lilio.resample(calendar, precursor_field_prep)\n",
    "target_field_resample = lilio.resample(calendar, target_field)"
   ]
  },
  {
   "cell_type": "code",
   "execution_count": null,
   "metadata": {},
   "outputs": [],
   "source": [
    "# select variables and intervals\n",
    "precursor_field_sel = precursor_field_resample['sst']\n",
    "target_series_sel = target_field_resample['t2m'].sel(cluster=3)"
   ]
  },
  {
   "cell_type": "code",
   "execution_count": null,
   "metadata": {},
   "outputs": [],
   "source": [
    "# load onnx model and check the prediction with it\n",
    "model_path = Path('/Users/clairedonnelly/AI4S2S/cookbook/workflow','model.onnx')\n"
   ]
  },
  {
   "cell_type": "code",
   "execution_count": null,
   "metadata": {},
   "outputs": [],
   "source": [
    "idx = 6 # explained instance\n",
    "data_instance = data_test[idx][np.newaxis, ...]\n",
    "# precheck ONNX predictions\n",
    "pred_onnx = run_model(data_instance)\n",
    "pred_class = classes[np.argmax(pred_onnx)]\n",
    "print(\"The predicted class is:\", pred_class)\n",
    "print(\"The actual class is:\", classes[np.argmax(target_test.iloc[idx])])"
   ]
  },
  {
   "cell_type": "code",
   "execution_count": null,
   "metadata": {},
   "outputs": [],
   "source": [
    "import onnxruntime as ort\n",
    "\n",
    "def run_model(data):\n",
    "    # get ONNX predictions\n",
    "    sess = ort.InferenceSession(model_path)\n",
    "    input_name = sess.get_inputs()[0].name\n",
    "    output_name = sess.get_outputs()[0].name\n",
    "\n",
    "    onnx_input = {input_name: data.astype(np.float32)}\n",
    "    pred_onnx = sess.run([output_name], onnx_input)[0]\n",
    "    \n",
    "    return pred_onnx"
   ]
  },
  {
   "cell_type": "code",
   "execution_count": null,
   "metadata": {},
   "outputs": [],
   "source": [
    "explanation = dianna.explain_tabular(run_model, input_tabular=data_instance, method='rise',\n",
    "                                     mode ='classification', training_data = X_train.to_numpy(),\n",
    "                                     feature_names=input_features.columns, class_names=species)"
   ]
  },
  {
   "cell_type": "code",
   "execution_count": null,
   "metadata": {},
   "outputs": [],
   "source": [
    "run_model(data_instance[None,...])"
   ]
  },
  {
   "cell_type": "code",
   "execution_count": null,
   "metadata": {},
   "outputs": [],
   "source": [
    "from dianna.visualization import plot_tabular\n",
    "\n",
    "_ = plot_tabular(explanation[np.argmax(predictions)], X_test.columns, num_features=10)"
   ]
  }
 ],
 "metadata": {
  "kernelspec": {
   "display_name": "env_tf",
   "language": "python",
   "name": "python3"
  },
  "language_info": {
   "codemirror_mode": {
    "name": "ipython",
    "version": 3
   },
   "file_extension": ".py",
   "mimetype": "text/x-python",
   "name": "python",
   "nbconvert_exporter": "python",
   "pygments_lexer": "ipython3",
   "version": "3.9.19"
  }
 },
 "nbformat": 4,
 "nbformat_minor": 2
}
